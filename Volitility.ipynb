{
 "cells": [
  {
   "cell_type": "code",
   "execution_count": 30,
   "id": "088bce30",
   "metadata": {},
   "outputs": [],
   "source": [
    "import pandas as pd\n",
    "import numpy as np\n",
    "from pathlib import Path\n",
    "%matplotlib inline\n",
    "import seaborn as sns\n",
    "import matplotlib.pyplot as plt\n",
    "from matplotlib import pyplot as plt"
   ]
  },
  {
   "cell_type": "code",
   "execution_count": 2,
   "id": "498b5ed2",
   "metadata": {},
   "outputs": [
    {
     "data": {
      "text/html": [
       "<div>\n",
       "<style scoped>\n",
       "    .dataframe tbody tr th:only-of-type {\n",
       "        vertical-align: middle;\n",
       "    }\n",
       "\n",
       "    .dataframe tbody tr th {\n",
       "        vertical-align: top;\n",
       "    }\n",
       "\n",
       "    .dataframe thead th {\n",
       "        text-align: right;\n",
       "    }\n",
       "</style>\n",
       "<table border=\"1\" class=\"dataframe\">\n",
       "  <thead>\n",
       "    <tr style=\"text-align: right;\">\n",
       "      <th></th>\n",
       "      <th>Bitcoin Price</th>\n",
       "      <th>S&amp;P500 Price</th>\n",
       "    </tr>\n",
       "  </thead>\n",
       "  <tbody>\n",
       "    <tr>\n",
       "      <th>2011-11-28</th>\n",
       "      <td>2.5</td>\n",
       "      <td>1192.55</td>\n",
       "    </tr>\n",
       "    <tr>\n",
       "      <th>2011-11-29</th>\n",
       "      <td>2.8</td>\n",
       "      <td>1195.19</td>\n",
       "    </tr>\n",
       "    <tr>\n",
       "      <th>2011-11-30</th>\n",
       "      <td>3.0</td>\n",
       "      <td>1246.96</td>\n",
       "    </tr>\n",
       "    <tr>\n",
       "      <th>2011-12-01</th>\n",
       "      <td>3.1</td>\n",
       "      <td>1244.58</td>\n",
       "    </tr>\n",
       "    <tr>\n",
       "      <th>2011-12-02</th>\n",
       "      <td>3.1</td>\n",
       "      <td>1244.28</td>\n",
       "    </tr>\n",
       "    <tr>\n",
       "      <th>...</th>\n",
       "      <td>...</td>\n",
       "      <td>...</td>\n",
       "    </tr>\n",
       "    <tr>\n",
       "      <th>2022-01-31</th>\n",
       "      <td>38498.6</td>\n",
       "      <td>4515.55</td>\n",
       "    </tr>\n",
       "    <tr>\n",
       "      <th>2022-02-01</th>\n",
       "      <td>38709.7</td>\n",
       "      <td>4546.54</td>\n",
       "    </tr>\n",
       "    <tr>\n",
       "      <th>2022-02-02</th>\n",
       "      <td>36890.2</td>\n",
       "      <td>4589.32</td>\n",
       "    </tr>\n",
       "    <tr>\n",
       "      <th>2022-02-03</th>\n",
       "      <td>37287.8</td>\n",
       "      <td>4477.44</td>\n",
       "    </tr>\n",
       "    <tr>\n",
       "      <th>2022-02-04</th>\n",
       "      <td>41567.6</td>\n",
       "      <td>4500.54</td>\n",
       "    </tr>\n",
       "  </tbody>\n",
       "</table>\n",
       "<p>2565 rows × 2 columns</p>\n",
       "</div>"
      ],
      "text/plain": [
       "            Bitcoin Price  S&P500 Price\n",
       "2011-11-28            2.5       1192.55\n",
       "2011-11-29            2.8       1195.19\n",
       "2011-11-30            3.0       1246.96\n",
       "2011-12-01            3.1       1244.58\n",
       "2011-12-02            3.1       1244.28\n",
       "...                   ...           ...\n",
       "2022-01-31        38498.6       4515.55\n",
       "2022-02-01        38709.7       4546.54\n",
       "2022-02-02        36890.2       4589.32\n",
       "2022-02-03        37287.8       4477.44\n",
       "2022-02-04        41567.6       4500.54\n",
       "\n",
       "[2565 rows x 2 columns]"
      ]
     },
     "execution_count": 2,
     "metadata": {},
     "output_type": "execute_result"
    }
   ],
   "source": [
    "df = pd.read_csv(\"BitcoinSP500.csv\",infer_datetime_format=True)\n",
    "df = df.set_index(pd.DatetimeIndex(df[\"Date\"].values))\n",
    "df = df.drop(\"Date\",axis=1)\n",
    "df"
   ]
  },
  {
   "cell_type": "code",
   "execution_count": 3,
   "id": "3a33aaf2",
   "metadata": {},
   "outputs": [
    {
     "data": {
      "text/html": [
       "<div>\n",
       "<style scoped>\n",
       "    .dataframe tbody tr th:only-of-type {\n",
       "        vertical-align: middle;\n",
       "    }\n",
       "\n",
       "    .dataframe tbody tr th {\n",
       "        vertical-align: top;\n",
       "    }\n",
       "\n",
       "    .dataframe thead th {\n",
       "        text-align: right;\n",
       "    }\n",
       "</style>\n",
       "<table border=\"1\" class=\"dataframe\">\n",
       "  <thead>\n",
       "    <tr style=\"text-align: right;\">\n",
       "      <th></th>\n",
       "      <th>Bitcoin Price</th>\n",
       "      <th>S&amp;P500 Price</th>\n",
       "    </tr>\n",
       "  </thead>\n",
       "  <tbody>\n",
       "    <tr>\n",
       "      <th>2011-11-28</th>\n",
       "      <td>NaN</td>\n",
       "      <td>NaN</td>\n",
       "    </tr>\n",
       "    <tr>\n",
       "      <th>2011-11-29</th>\n",
       "      <td>0.120000</td>\n",
       "      <td>0.002214</td>\n",
       "    </tr>\n",
       "    <tr>\n",
       "      <th>2011-11-30</th>\n",
       "      <td>0.071429</td>\n",
       "      <td>0.043315</td>\n",
       "    </tr>\n",
       "    <tr>\n",
       "      <th>2011-12-01</th>\n",
       "      <td>0.033333</td>\n",
       "      <td>-0.001909</td>\n",
       "    </tr>\n",
       "    <tr>\n",
       "      <th>2011-12-02</th>\n",
       "      <td>0.000000</td>\n",
       "      <td>-0.000241</td>\n",
       "    </tr>\n",
       "    <tr>\n",
       "      <th>...</th>\n",
       "      <td>...</td>\n",
       "      <td>...</td>\n",
       "    </tr>\n",
       "    <tr>\n",
       "      <th>2022-01-31</th>\n",
       "      <td>0.019963</td>\n",
       "      <td>0.018886</td>\n",
       "    </tr>\n",
       "    <tr>\n",
       "      <th>2022-02-01</th>\n",
       "      <td>0.005483</td>\n",
       "      <td>0.006863</td>\n",
       "    </tr>\n",
       "    <tr>\n",
       "      <th>2022-02-02</th>\n",
       "      <td>-0.047004</td>\n",
       "      <td>0.009409</td>\n",
       "    </tr>\n",
       "    <tr>\n",
       "      <th>2022-02-03</th>\n",
       "      <td>0.010778</td>\n",
       "      <td>-0.024378</td>\n",
       "    </tr>\n",
       "    <tr>\n",
       "      <th>2022-02-04</th>\n",
       "      <td>0.114777</td>\n",
       "      <td>0.005159</td>\n",
       "    </tr>\n",
       "  </tbody>\n",
       "</table>\n",
       "<p>2565 rows × 2 columns</p>\n",
       "</div>"
      ],
      "text/plain": [
       "            Bitcoin Price  S&P500 Price\n",
       "2011-11-28            NaN           NaN\n",
       "2011-11-29       0.120000      0.002214\n",
       "2011-11-30       0.071429      0.043315\n",
       "2011-12-01       0.033333     -0.001909\n",
       "2011-12-02       0.000000     -0.000241\n",
       "...                   ...           ...\n",
       "2022-01-31       0.019963      0.018886\n",
       "2022-02-01       0.005483      0.006863\n",
       "2022-02-02      -0.047004      0.009409\n",
       "2022-02-03       0.010778     -0.024378\n",
       "2022-02-04       0.114777      0.005159\n",
       "\n",
       "[2565 rows x 2 columns]"
      ]
     },
     "execution_count": 3,
     "metadata": {},
     "output_type": "execute_result"
    }
   ],
   "source": [
    "# Calculate the S&P500 daily return using the 'shift()' function\n",
    "daily_returns = df.pct_change()\n",
    "daily_returns"
   ]
  },
  {
   "cell_type": "code",
   "execution_count": 4,
   "id": "7606b723",
   "metadata": {},
   "outputs": [
    {
     "data": {
      "text/plain": [
       "Bitcoin Price    0.087245\n",
       "S&P500 Price     0.010362\n",
       "dtype: float64"
      ]
     },
     "execution_count": 4,
     "metadata": {},
     "output_type": "execute_result"
    }
   ],
   "source": [
    "# Daily Standard Deviations\n",
    "daily_std = daily_returns.std()\n",
    "daily_std.head()"
   ]
  },
  {
   "cell_type": "code",
   "execution_count": 5,
   "id": "f59dd000",
   "metadata": {},
   "outputs": [
    {
     "data": {
      "text/plain": [
       "Bitcoin Price    1.384974\n",
       "S&P500 Price     0.164490\n",
       "dtype: float64"
      ]
     },
     "execution_count": 5,
     "metadata": {},
     "output_type": "execute_result"
    }
   ],
   "source": [
    "# Calculate the annualized standard deviation (252 trading days)\n",
    "annualized_std = daily_std * np.sqrt(252)\n",
    "annualized_std.head()"
   ]
  },
  {
   "cell_type": "code",
   "execution_count": 6,
   "id": "d5b986e5",
   "metadata": {},
   "outputs": [
    {
     "data": {
      "text/plain": [
       "Bitcoin Price    1.115766\n",
       "S&P500 Price     0.876366\n",
       "dtype: float64"
      ]
     },
     "execution_count": 6,
     "metadata": {},
     "output_type": "execute_result"
    }
   ],
   "source": [
    "# Calculate Sharpe Ratio\n",
    "# Sharpe ratios are commonly used to indicate whether or not an investment is a good decision. \n",
    "# While standard deviation illustrates how far an investment has deviated from its average, \n",
    "# Sharpe ratios use standard deviation to illustrate the relationship between standard deviation and risk-reward.\n",
    "# The return-to-risk ratio can be used to determine which stocks and/or portfolios have outperformed the others. The higher the sharpe ratio, the better the investment.\n",
    "# Sharpe ratios enable investors to judge whether or not an investment is a good decision. Sharpe ratios adjust for risk, making them a valuable indicator of asset performance.\n",
    "sharpe_ratios = (daily_returns.mean() * 252) / (daily_returns.std() * np.sqrt(252))\n",
    "sharpe_ratios"
   ]
  },
  {
   "cell_type": "code",
   "execution_count": 7,
   "id": "41c5cd9a",
   "metadata": {},
   "outputs": [
    {
     "data": {
      "text/plain": [
       "<AxesSubplot:title={'center':'Sharpe Ratios'}>"
      ]
     },
     "execution_count": 7,
     "metadata": {},
     "output_type": "execute_result"
    },
    {
     "data": {
      "image/png": "[encoded data removed]",
      "text/plain": [
       "<Figure size 432x288 with 1 Axes>"
      ]
     },
     "metadata": {
      "needs_background": "light"
     },
     "output_type": "display_data"
    }
   ],
   "source": [
    "# Plot sharpe ratios \n",
    "# Bitcoin has higher Sharpe Ratio which means smarter investment\n",
    "sharpe_ratios.plot(kind=\"bar\", title=\"Sharpe Ratios\")"
   ]
  },
  {
   "cell_type": "code",
   "execution_count": 8,
   "id": "8cda1251",
   "metadata": {},
   "outputs": [
    {
     "data": {
      "text/html": [
       "<div>\n",
       "<style scoped>\n",
       "    .dataframe tbody tr th:only-of-type {\n",
       "        vertical-align: middle;\n",
       "    }\n",
       "\n",
       "    .dataframe tbody tr th {\n",
       "        vertical-align: top;\n",
       "    }\n",
       "\n",
       "    .dataframe thead th {\n",
       "        text-align: right;\n",
       "    }\n",
       "</style>\n",
       "<table border=\"1\" class=\"dataframe\">\n",
       "  <thead>\n",
       "    <tr style=\"text-align: right;\">\n",
       "      <th></th>\n",
       "      <th>Bitcoin Price</th>\n",
       "      <th>S&amp;P500 Price</th>\n",
       "    </tr>\n",
       "  </thead>\n",
       "  <tbody>\n",
       "    <tr>\n",
       "      <th>2019-05-13</th>\n",
       "      <td>0.222361</td>\n",
       "      <td>-0.024131</td>\n",
       "    </tr>\n",
       "    <tr>\n",
       "      <th>2019-05-14</th>\n",
       "      <td>0.024161</td>\n",
       "      <td>0.008016</td>\n",
       "    </tr>\n",
       "    <tr>\n",
       "      <th>2019-05-15</th>\n",
       "      <td>0.021264</td>\n",
       "      <td>0.005839</td>\n",
       "    </tr>\n",
       "    <tr>\n",
       "      <th>2019-05-16</th>\n",
       "      <td>-0.035862</td>\n",
       "      <td>0.008895</td>\n",
       "    </tr>\n",
       "    <tr>\n",
       "      <th>2019-05-17</th>\n",
       "      <td>-0.065080</td>\n",
       "      <td>-0.005837</td>\n",
       "    </tr>\n",
       "    <tr>\n",
       "      <th>...</th>\n",
       "      <td>...</td>\n",
       "      <td>...</td>\n",
       "    </tr>\n",
       "    <tr>\n",
       "      <th>2022-01-31</th>\n",
       "      <td>0.019963</td>\n",
       "      <td>0.018886</td>\n",
       "    </tr>\n",
       "    <tr>\n",
       "      <th>2022-02-01</th>\n",
       "      <td>0.005483</td>\n",
       "      <td>0.006863</td>\n",
       "    </tr>\n",
       "    <tr>\n",
       "      <th>2022-02-02</th>\n",
       "      <td>-0.047004</td>\n",
       "      <td>0.009409</td>\n",
       "    </tr>\n",
       "    <tr>\n",
       "      <th>2022-02-03</th>\n",
       "      <td>0.010778</td>\n",
       "      <td>-0.024378</td>\n",
       "    </tr>\n",
       "    <tr>\n",
       "      <th>2022-02-04</th>\n",
       "      <td>0.114777</td>\n",
       "      <td>0.005159</td>\n",
       "    </tr>\n",
       "  </tbody>\n",
       "</table>\n",
       "<p>691 rows × 2 columns</p>\n",
       "</div>"
      ],
      "text/plain": [
       "            Bitcoin Price  S&P500 Price\n",
       "2019-05-13       0.222361     -0.024131\n",
       "2019-05-14       0.024161      0.008016\n",
       "2019-05-15       0.021264      0.005839\n",
       "2019-05-16      -0.035862      0.008895\n",
       "2019-05-17      -0.065080     -0.005837\n",
       "...                   ...           ...\n",
       "2022-01-31       0.019963      0.018886\n",
       "2022-02-01       0.005483      0.006863\n",
       "2022-02-02      -0.047004      0.009409\n",
       "2022-02-03       0.010778     -0.024378\n",
       "2022-02-04       0.114777      0.005159\n",
       "\n",
       "[691 rows x 2 columns]"
      ]
     },
     "execution_count": 8,
     "metadata": {},
     "output_type": "execute_result"
    }
   ],
   "source": [
    "# daily returns during bitcoin halving Nov 28 2012\n",
    "halving_1 = daily_returns.loc['2011-11-29':'2014-11-28']\n",
    "halving_1\n",
    "\n",
    "# daily returns during bitcoin halving July 9 2016\n",
    "halving_2 = daily_returns.loc['2015-07-09':'2018-07-09']\n",
    "halving_2\n",
    "\n",
    "# daily returns during bitcoin halving May 11 2020\n",
    "halving_3 = daily_returns.loc['2019-05-11':'2022-02-04']\n",
    "halving_3"
   ]
  },
  {
   "cell_type": "code",
   "execution_count": 12,
   "id": "d3f9930a",
   "metadata": {},
   "outputs": [
    {
     "data": {
      "text/plain": [
       "Bitcoin Price    0.143734\n",
       "S&P500 Price     0.007622\n",
       "dtype: float64"
      ]
     },
     "execution_count": 12,
     "metadata": {},
     "output_type": "execute_result"
    }
   ],
   "source": [
    "halving_1_std = halving_1.std()\n",
    "halving_1_std"
   ]
  },
  {
   "cell_type": "code",
   "execution_count": 15,
   "id": "01f6960e",
   "metadata": {},
   "outputs": [
    {
     "data": {
      "text/plain": [
       "Bitcoin Price    2.281713\n",
       "S&P500 Price     0.121001\n",
       "dtype: float64"
      ]
     },
     "execution_count": 15,
     "metadata": {},
     "output_type": "execute_result"
    }
   ],
   "source": [
    "# Calculate the annualized standard deviation (252 trading days)\n",
    "annualized_std_1 = halving_1_std * np.sqrt(252)\n",
    "annualized_std_1.head()"
   ]
  },
  {
   "cell_type": "code",
   "execution_count": 14,
   "id": "44103102",
   "metadata": {},
   "outputs": [
    {
     "data": {
      "text/plain": [
       "Bitcoin Price    0.046535\n",
       "S&P500 Price     0.008246\n",
       "dtype: float64"
      ]
     },
     "execution_count": 14,
     "metadata": {},
     "output_type": "execute_result"
    }
   ],
   "source": [
    "halving_2_std = halving_2.std()\n",
    "halving_2_std"
   ]
  },
  {
   "cell_type": "code",
   "execution_count": 16,
   "id": "46450d7c",
   "metadata": {},
   "outputs": [
    {
     "data": {
      "text/plain": [
       "Bitcoin Price    0.738712\n",
       "S&P500 Price     0.130908\n",
       "dtype: float64"
      ]
     },
     "execution_count": 16,
     "metadata": {},
     "output_type": "execute_result"
    }
   ],
   "source": [
    "# Calculate the annualized standard deviation (252 trading days)\n",
    "annualized_std_2 = halving_2_std * np.sqrt(252)\n",
    "annualized_std_2.head()"
   ]
  },
  {
   "cell_type": "code",
   "execution_count": 13,
   "id": "5227d629",
   "metadata": {},
   "outputs": [
    {
     "data": {
      "text/plain": [
       "Bitcoin Price    0.048463\n",
       "S&P500 Price     0.014717\n",
       "dtype: float64"
      ]
     },
     "execution_count": 13,
     "metadata": {},
     "output_type": "execute_result"
    }
   ],
   "source": [
    "halving_3_std = halving_3.std()\n",
    "halving_3_std"
   ]
  },
  {
   "cell_type": "code",
   "execution_count": 17,
   "id": "3a88809b",
   "metadata": {},
   "outputs": [
    {
     "data": {
      "text/plain": [
       "Bitcoin Price    0.769321\n",
       "S&P500 Price     0.233629\n",
       "dtype: float64"
      ]
     },
     "execution_count": 17,
     "metadata": {},
     "output_type": "execute_result"
    }
   ],
   "source": [
    "# Calculate the annualized standard deviation (252 trading days)\n",
    "annualized_std_3 = halving_3_std * np.sqrt(252)\n",
    "annualized_std_3.head()"
   ]
  },
  {
   "cell_type": "code",
   "execution_count": 22,
   "id": "ef9b9483",
   "metadata": {},
   "outputs": [
    {
     "data": {
      "text/plain": [
       "Bitcoin Price    1.323894\n",
       "S&P500 Price     1.578829\n",
       "dtype: float64"
      ]
     },
     "execution_count": 22,
     "metadata": {},
     "output_type": "execute_result"
    }
   ],
   "source": [
    "sharpe_ratio_1 = (halving_1.mean() * 252) / (halving_1.std() * np.sqrt(252))\n",
    "sharpe_ratio_1"
   ]
  },
  {
   "cell_type": "code",
   "execution_count": 25,
   "id": "aee7a8ee",
   "metadata": {},
   "outputs": [
    {
     "data": {
      "text/plain": [
       "Bitcoin Price    1.818505\n",
       "S&P500 Price     0.849309\n",
       "dtype: float64"
      ]
     },
     "execution_count": 25,
     "metadata": {},
     "output_type": "execute_result"
    }
   ],
   "source": [
    "sharpe_ratio_2 = (halving_2.mean() * 252) / (halving_2.std() * np.sqrt(252))\n",
    "sharpe_ratio_2"
   ]
  },
  {
   "cell_type": "code",
   "execution_count": 23,
   "id": "53e8a624",
   "metadata": {},
   "outputs": [
    {
     "data": {
      "text/plain": [
       "Bitcoin Price    1.283123\n",
       "S&P500 Price     0.813885\n",
       "dtype: float64"
      ]
     },
     "execution_count": 23,
     "metadata": {},
     "output_type": "execute_result"
    }
   ],
   "source": [
    "sharpe_ratio_3 = (halving_3.mean() * 252) / (halving_3.std() * np.sqrt(252))\n",
    "sharpe_ratio_3"
   ]
  },
  {
   "cell_type": "code",
   "execution_count": 26,
   "id": "0ecd016b",
   "metadata": {},
   "outputs": [
    {
     "data": {
      "text/plain": [
       "<AxesSubplot:title={'center':'Sharpe Ratios'}>"
      ]
     },
     "execution_count": 26,
     "metadata": {},
     "output_type": "execute_result"
    },
    {
     "data": {
      "image/png": "[encoded data removed]",
      "text/plain": [
       "<Figure size 432x288 with 1 Axes>"
      ]
     },
     "metadata": {
      "needs_background": "light"
     },
     "output_type": "display_data"
    }
   ],
   "source": [
    "# Bitcoin has higher Sharpe Ratio which means smarter investment\n",
    "sharpe_ratio_1.plot(kind=\"bar\", title=\"Sharpe Ratios\")"
   ]
  },
  {
   "cell_type": "code",
   "execution_count": 27,
   "id": "ab867745",
   "metadata": {},
   "outputs": [
    {
     "data": {
      "text/plain": [
       "<AxesSubplot:title={'center':'Sharpe Ratios'}>"
      ]
     },
     "execution_count": 27,
     "metadata": {},
     "output_type": "execute_result"
    },
    {
     "data": {
      "image/png": "[encoded data removed]",
      "text/plain": [
       "<Figure size 432x288 with 1 Axes>"
      ]
     },
     "metadata": {
      "needs_background": "light"
     },
     "output_type": "display_data"
    }
   ],
   "source": [
    "# Bitcoin has higher Sharpe Ratio which means smarter investment\n",
    "sharpe_ratio_2.plot(kind=\"bar\", title=\"Sharpe Ratios\")"
   ]
  },
  {
   "cell_type": "code",
   "execution_count": 28,
   "id": "009a5aa8",
   "metadata": {},
   "outputs": [
    {
     "data": {
      "text/plain": [
       "<AxesSubplot:title={'center':'Sharpe Ratios'}>"
      ]
     },
     "execution_count": 28,
     "metadata": {},
     "output_type": "execute_result"
    },
    {
     "data": {
      "image/png": "[encoded data removed]",
      "text/plain": [
       "<Figure size 432x288 with 1 Axes>"
      ]
     },
     "metadata": {
      "needs_background": "light"
     },
     "output_type": "display_data"
    }
   ],
   "source": [
    "# Bitcoin has higher Sharpe Ratio which means smarter investment\n",
    "sharpe_ratio_3.plot(kind=\"bar\", title=\"Sharpe Ratios\")"
   ]
  },
  {
   "cell_type": "code",
   "execution_count": 31,
   "id": "02c000b9",
   "metadata": {},
   "outputs": [
    {
     "data": {
      "text/plain": [
       "<AxesSubplot:>"
      ]
     },
     "execution_count": 31,
     "metadata": {},
     "output_type": "execute_result"
    },
    {
     "data": {
      "image/png": "[encoded data removed]",
      "text/plain": [
       "<Figure size 720x720 with 2 Axes>"
      ]
     },
     "metadata": {
      "needs_background": "light"
     },
     "output_type": "display_data"
    }
   ],
   "source": [
    "# Showing the correlation between both ETfs. Shows relationship between both etfs\n",
    "plt.subplots(figsize=(10,10))\n",
    "sns.heatmap(halving_1.corr(), annot=True, fmt=\".2%\")"
   ]
  },
  {
   "cell_type": "code",
   "execution_count": 32,
   "id": "eed3ead9",
   "metadata": {},
   "outputs": [
    {
     "data": {
      "text/plain": [
       "<AxesSubplot:>"
      ]
     },
     "execution_count": 32,
     "metadata": {},
     "output_type": "execute_result"
    },
    {
     "data": {
      "image/png": "[encoded data removed]",
      "text/plain": [
       "<Figure size 720x720 with 2 Axes>"
      ]
     },
     "metadata": {
      "needs_background": "light"
     },
     "output_type": "display_data"
    }
   ],
   "source": [
    "# Showing the correlation between both ETfs. Shows relationship between both etfs\n",
    "plt.subplots(figsize=(10,10))\n",
    "sns.heatmap(halving_2.corr(), annot=True, fmt=\".2%\")"
   ]
  },
  {
   "cell_type": "code",
   "execution_count": 33,
   "id": "d64deede",
   "metadata": {},
   "outputs": [
    {
     "data": {
      "text/plain": [
       "<AxesSubplot:>"
      ]
     },
     "execution_count": 33,
     "metadata": {},
     "output_type": "execute_result"
    },
    {
     "data": {
      "image/png": "[encoded data removed]",
      "text/plain": [
       "<Figure size 720x720 with 2 Axes>"
      ]
     },
     "metadata": {
      "needs_background": "light"
     },
     "output_type": "display_data"
    }
   ],
   "source": [
    "# Showing the correlation between both ETfs. Shows relationship between both etfs\n",
    "plt.subplots(figsize=(10,10))\n",
    "sns.heatmap(halving_3.corr(), annot=True, fmt=\".2%\")"
   ]
  }
 ],
 "metadata": {
  "kernelspec": {
   "display_name": "Python [conda env:pyvizenv]",
   "language": "python",
   "name": "conda-env-pyvizenv-py"
  },
  "language_info": {
   "codemirror_mode": {
    "name": "ipython",
    "version": 3
   },
   "file_extension": ".py",
   "mimetype": "text/x-python",
   "name": "python",
   "nbconvert_exporter": "python",
   "pygments_lexer": "ipython3",
   "version": "3.7.10"
  }
 },
 "nbformat": 4,
 "nbformat_minor": 5
}
