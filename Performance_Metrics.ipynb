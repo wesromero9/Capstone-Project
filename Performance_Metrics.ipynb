{
 "cells": [
  {
   "cell_type": "code",
   "execution_count": 1,
   "id": "5646088c",
   "metadata": {},
   "outputs": [],
   "source": [
    "# Initial imports\n",
    "import pandas as pd\n",
    "import numpy as np\n",
    "import pandas_datareader as pdr\n",
    "import matplotlib.pyplot as plt\n",
    "from sklearn import svm\n",
    "from sklearn.preprocessing import StandardScaler\n",
    "from pandas.tseries.offsets import DateOffset\n",
    "from sklearn.metrics import classification_report"
   ]
  },
  {
   "cell_type": "code",
   "execution_count": 2,
   "id": "96ea1ed7",
   "metadata": {},
   "outputs": [],
   "source": [
    "btc = pdr.get_data_yahoo(\"BTC-USD\")\n",
    "btc = btc[['Open','High','Low',\"Close\"]]\n",
    "#btc = btc.drop(columns = ['Volume','Adj Close'],axis=1)\n",
    "btc['Average'] = btc[\"High\"]"
   ]
  },
  {
   "cell_type": "code",
   "execution_count": 4,
   "id": "5f84074a",
   "metadata": {},
   "outputs": [
    {
     "data": {
      "text/plain": [
       "<AxesSubplot:xlabel='Date'>"
      ]
     },
     "execution_count": 4,
     "metadata": {},
     "output_type": "execute_result"
    },
    {
     "data": {
      "image/png": "[encoded data removed]",
      "text/plain": [
       "<Figure size 432x288 with 1 Axes>"
      ]
     },
     "metadata": {
      "needs_background": "light"
     },
     "output_type": "display_data"
    }
   ],
   "source": [
    "# Plot the data\n",
    "btc[\"Average\"].plot()"
   ]
  },
  {
   "cell_type": "code",
   "execution_count": 6,
   "id": "739c5e54",
   "metadata": {},
   "outputs": [
    {
     "data": {
      "text/plain": [
       "Date\n",
       "2017-02-14         NaN\n",
       "2017-02-15   -0.002640\n",
       "2017-02-16    0.024315\n",
       "2017-02-17    0.019161\n",
       "2017-02-18    0.007530\n",
       "Name: Actual Returns, dtype: float64"
      ]
     },
     "execution_count": 6,
     "metadata": {},
     "output_type": "execute_result"
    }
   ],
   "source": [
    "# Filter the date index and close columns\n",
    "signals_df = btc.loc[:, [\"Average\"]]\n",
    "\n",
    "# Calculate percentage change in implied volatility \n",
    "# (Implied Volatility is a proxy for option price returns) \n",
    "signals_df[\"Actual Returns\"] = ( signals_df[\"Average\"].pct_change())\n",
    "signals_df[\"Actual Returns\"].head()"
   ]
  },
  {
   "cell_type": "code",
   "execution_count": 7,
   "id": "a9d4b5ca",
   "metadata": {},
   "outputs": [
    {
     "data": {
      "text/html": [
       "<div>\n",
       "<style scoped>\n",
       "    .dataframe tbody tr th:only-of-type {\n",
       "        vertical-align: middle;\n",
       "    }\n",
       "\n",
       "    .dataframe tbody tr th {\n",
       "        vertical-align: top;\n",
       "    }\n",
       "\n",
       "    .dataframe thead th {\n",
       "        text-align: right;\n",
       "    }\n",
       "</style>\n",
       "<table border=\"1\" class=\"dataframe\">\n",
       "  <thead>\n",
       "    <tr style=\"text-align: right;\">\n",
       "      <th></th>\n",
       "      <th>Average</th>\n",
       "      <th>Actual Returns</th>\n",
       "    </tr>\n",
       "    <tr>\n",
       "      <th>Date</th>\n",
       "      <th></th>\n",
       "      <th></th>\n",
       "    </tr>\n",
       "  </thead>\n",
       "  <tbody>\n",
       "    <tr>\n",
       "      <th>2017-02-15</th>\n",
       "      <td>1008.840027</td>\n",
       "      <td>-0.002640</td>\n",
       "    </tr>\n",
       "    <tr>\n",
       "      <th>2017-02-16</th>\n",
       "      <td>1033.369995</td>\n",
       "      <td>0.024315</td>\n",
       "    </tr>\n",
       "    <tr>\n",
       "      <th>2017-02-17</th>\n",
       "      <td>1053.170044</td>\n",
       "      <td>0.019161</td>\n",
       "    </tr>\n",
       "    <tr>\n",
       "      <th>2017-02-18</th>\n",
       "      <td>1061.099976</td>\n",
       "      <td>0.007530</td>\n",
       "    </tr>\n",
       "    <tr>\n",
       "      <th>2017-02-19</th>\n",
       "      <td>1056.810059</td>\n",
       "      <td>-0.004043</td>\n",
       "    </tr>\n",
       "  </tbody>\n",
       "</table>\n",
       "</div>"
      ],
      "text/plain": [
       "                Average  Actual Returns\n",
       "Date                                   \n",
       "2017-02-15  1008.840027       -0.002640\n",
       "2017-02-16  1033.369995        0.024315\n",
       "2017-02-17  1053.170044        0.019161\n",
       "2017-02-18  1061.099976        0.007530\n",
       "2017-02-19  1056.810059       -0.004043"
      ]
     },
     "execution_count": 7,
     "metadata": {},
     "output_type": "execute_result"
    }
   ],
   "source": [
    "# Drop all NaN values from the DataFrame\n",
    "signals_df = signals_df.dropna()\n",
    "\n",
    "# Display sample data\n",
    "signals_df.head()"
   ]
  },
  {
   "cell_type": "markdown",
   "id": "e1e73e24",
   "metadata": {},
   "source": [
    "# Build a Simple Trading Algorithm"
   ]
  },
  {
   "cell_type": "code",
   "execution_count": 8,
   "id": "8cfb0407",
   "metadata": {},
   "outputs": [],
   "source": [
    "# Set the short window and long window\n",
    "short_window = 1\n",
    "long_window = 5\n",
    "\n",
    "# Generate the fast and slow simple moving averages (4 and 100 days, respectively)\n",
    "signals_df[\"SMA_Fast\"] = signals_df[\"Average\"].rolling(window=short_window).mean()\n",
    "signals_df[\"SMA_Slow\"] = signals_df[\"Average\"].rolling(window=long_window).mean()\n",
    "\n",
    "# Drop any NaN\n",
    "signals_df = signals_df.dropna()"
   ]
  },
  {
   "cell_type": "markdown",
   "id": "c0dd0949",
   "metadata": {},
   "source": [
    "# Define a Simple Momentum Strategy"
   ]
  },
  {
   "cell_type": "code",
   "execution_count": 11,
   "id": "938695e2",
   "metadata": {},
   "outputs": [
    {
     "data": {
      "text/html": [
       "<div>\n",
       "<style scoped>\n",
       "    .dataframe tbody tr th:only-of-type {\n",
       "        vertical-align: middle;\n",
       "    }\n",
       "\n",
       "    .dataframe tbody tr th {\n",
       "        vertical-align: top;\n",
       "    }\n",
       "\n",
       "    .dataframe thead th {\n",
       "        text-align: right;\n",
       "    }\n",
       "</style>\n",
       "<table border=\"1\" class=\"dataframe\">\n",
       "  <thead>\n",
       "    <tr style=\"text-align: right;\">\n",
       "      <th></th>\n",
       "      <th>Average</th>\n",
       "      <th>Actual Returns</th>\n",
       "      <th>SMA_Fast</th>\n",
       "      <th>SMA_Slow</th>\n",
       "      <th>Signal</th>\n",
       "    </tr>\n",
       "    <tr>\n",
       "      <th>Date</th>\n",
       "      <th></th>\n",
       "      <th></th>\n",
       "      <th></th>\n",
       "      <th></th>\n",
       "      <th></th>\n",
       "    </tr>\n",
       "  </thead>\n",
       "  <tbody>\n",
       "    <tr>\n",
       "      <th>2017-02-19</th>\n",
       "      <td>1056.810059</td>\n",
       "      <td>-0.004043</td>\n",
       "      <td>1056.810059</td>\n",
       "      <td>1042.658020</td>\n",
       "      <td>-1.0</td>\n",
       "    </tr>\n",
       "    <tr>\n",
       "      <th>2017-02-20</th>\n",
       "      <td>1080.489990</td>\n",
       "      <td>0.022407</td>\n",
       "      <td>1080.489990</td>\n",
       "      <td>1056.988013</td>\n",
       "      <td>1.0</td>\n",
       "    </tr>\n",
       "    <tr>\n",
       "      <th>2017-02-21</th>\n",
       "      <td>1117.250000</td>\n",
       "      <td>0.034022</td>\n",
       "      <td>1117.250000</td>\n",
       "      <td>1073.764014</td>\n",
       "      <td>1.0</td>\n",
       "    </tr>\n",
       "    <tr>\n",
       "      <th>2017-02-22</th>\n",
       "      <td>1125.390015</td>\n",
       "      <td>0.007286</td>\n",
       "      <td>1125.390015</td>\n",
       "      <td>1088.208008</td>\n",
       "      <td>1.0</td>\n",
       "    </tr>\n",
       "    <tr>\n",
       "      <th>2017-02-23</th>\n",
       "      <td>1176.619995</td>\n",
       "      <td>0.045522</td>\n",
       "      <td>1176.619995</td>\n",
       "      <td>1111.312012</td>\n",
       "      <td>1.0</td>\n",
       "    </tr>\n",
       "  </tbody>\n",
       "</table>\n",
       "</div>"
      ],
      "text/plain": [
       "                Average  Actual Returns     SMA_Fast     SMA_Slow  Signal\n",
       "Date                                                                     \n",
       "2017-02-19  1056.810059       -0.004043  1056.810059  1042.658020    -1.0\n",
       "2017-02-20  1080.489990        0.022407  1080.489990  1056.988013     1.0\n",
       "2017-02-21  1117.250000        0.034022  1117.250000  1073.764014     1.0\n",
       "2017-02-22  1125.390015        0.007286  1125.390015  1088.208008     1.0\n",
       "2017-02-23  1176.619995        0.045522  1176.619995  1111.312012     1.0"
      ]
     },
     "execution_count": 11,
     "metadata": {},
     "output_type": "execute_result"
    }
   ],
   "source": [
    "# Initialize the new Signal column\n",
    "signals_df[\"Signal\"] = 0.0\n",
    "\n",
    "# When Actual Returns are greater than or equal to 0, generate signal to buy stock long\n",
    "signals_df.loc[(signals_df[\"Actual Returns\"] >= 0), \"Signal\"] = 1\n",
    "\n",
    "# When Actual Returns are less than 0, generate signal to sell stock short\n",
    "signals_df.loc[(signals_df[\"Actual Returns\"] < 0), \"Signal\"] = -1\n",
    "\n",
    "signals_df.head()"
   ]
  },
  {
   "cell_type": "markdown",
   "id": "818c9766",
   "metadata": {},
   "source": [
    "# Risk and Performance\n"
   ]
  },
  {
   "cell_type": "code",
   "execution_count": 12,
   "id": "2c6b936e",
   "metadata": {},
   "outputs": [
    {
     "name": "stdout",
     "output_type": "stream",
     "text": [
      "Annualized Volatility: 58.15 %\n"
     ]
    }
   ],
   "source": [
    "# Annualized volatility of the option returns for Google\n",
    "annualized_volatility = round(signals_df[\"Actual Returns\"].std() * np.sqrt(252) * 100, 2)\n",
    "\n",
    "# Display results\n",
    "print(\"Annualized Volatility:\", annualized_volatility, \"%\")"
   ]
  },
  {
   "cell_type": "code",
   "execution_count": 15,
   "id": "5df2deb7",
   "metadata": {},
   "outputs": [
    {
     "data": {
      "text/html": [
       "<div>\n",
       "<style scoped>\n",
       "    .dataframe tbody tr th:only-of-type {\n",
       "        vertical-align: middle;\n",
       "    }\n",
       "\n",
       "    .dataframe tbody tr th {\n",
       "        vertical-align: top;\n",
       "    }\n",
       "\n",
       "    .dataframe thead th {\n",
       "        text-align: right;\n",
       "    }\n",
       "</style>\n",
       "<table border=\"1\" class=\"dataframe\">\n",
       "  <thead>\n",
       "    <tr style=\"text-align: right;\">\n",
       "      <th></th>\n",
       "      <th>Average</th>\n",
       "      <th>Actual Returns</th>\n",
       "      <th>SMA_Fast</th>\n",
       "      <th>SMA_Slow</th>\n",
       "      <th>Signal</th>\n",
       "      <th>Strategy Returns</th>\n",
       "    </tr>\n",
       "    <tr>\n",
       "      <th>Date</th>\n",
       "      <th></th>\n",
       "      <th></th>\n",
       "      <th></th>\n",
       "      <th></th>\n",
       "      <th></th>\n",
       "      <th></th>\n",
       "    </tr>\n",
       "  </thead>\n",
       "  <tbody>\n",
       "    <tr>\n",
       "      <th>2017-02-19</th>\n",
       "      <td>1056.810059</td>\n",
       "      <td>-0.004043</td>\n",
       "      <td>1056.810059</td>\n",
       "      <td>1042.658020</td>\n",
       "      <td>-1.0</td>\n",
       "      <td>NaN</td>\n",
       "    </tr>\n",
       "    <tr>\n",
       "      <th>2017-02-20</th>\n",
       "      <td>1080.489990</td>\n",
       "      <td>0.022407</td>\n",
       "      <td>1080.489990</td>\n",
       "      <td>1056.988013</td>\n",
       "      <td>1.0</td>\n",
       "      <td>-0.022407</td>\n",
       "    </tr>\n",
       "    <tr>\n",
       "      <th>2017-02-21</th>\n",
       "      <td>1117.250000</td>\n",
       "      <td>0.034022</td>\n",
       "      <td>1117.250000</td>\n",
       "      <td>1073.764014</td>\n",
       "      <td>1.0</td>\n",
       "      <td>0.034022</td>\n",
       "    </tr>\n",
       "    <tr>\n",
       "      <th>2017-02-22</th>\n",
       "      <td>1125.390015</td>\n",
       "      <td>0.007286</td>\n",
       "      <td>1125.390015</td>\n",
       "      <td>1088.208008</td>\n",
       "      <td>1.0</td>\n",
       "      <td>0.007286</td>\n",
       "    </tr>\n",
       "    <tr>\n",
       "      <th>2017-02-23</th>\n",
       "      <td>1176.619995</td>\n",
       "      <td>0.045522</td>\n",
       "      <td>1176.619995</td>\n",
       "      <td>1111.312012</td>\n",
       "      <td>1.0</td>\n",
       "      <td>0.045522</td>\n",
       "    </tr>\n",
       "  </tbody>\n",
       "</table>\n",
       "</div>"
      ],
      "text/plain": [
       "                Average  Actual Returns     SMA_Fast     SMA_Slow  Signal  \\\n",
       "Date                                                                        \n",
       "2017-02-19  1056.810059       -0.004043  1056.810059  1042.658020    -1.0   \n",
       "2017-02-20  1080.489990        0.022407  1080.489990  1056.988013     1.0   \n",
       "2017-02-21  1117.250000        0.034022  1117.250000  1073.764014     1.0   \n",
       "2017-02-22  1125.390015        0.007286  1125.390015  1088.208008     1.0   \n",
       "2017-02-23  1176.619995        0.045522  1176.619995  1111.312012     1.0   \n",
       "\n",
       "            Strategy Returns  \n",
       "Date                          \n",
       "2017-02-19               NaN  \n",
       "2017-02-20         -0.022407  \n",
       "2017-02-21          0.034022  \n",
       "2017-02-22          0.007286  \n",
       "2017-02-23          0.045522  "
      ]
     },
     "execution_count": 15,
     "metadata": {},
     "output_type": "execute_result"
    }
   ],
   "source": [
    "# Calculate the strategy returns and add them to the signals_df DataFrame\n",
    "signals_df[\"Strategy Returns\"] = signals_df[\"Actual Returns\"] * signals_df[\"Signal\"].shift()\n",
    "signals_df.head()"
   ]
  },
  {
   "cell_type": "code",
   "execution_count": 16,
   "id": "f3642013",
   "metadata": {},
   "outputs": [
    {
     "data": {
      "text/plain": [
       "<AxesSubplot:xlabel='Date'>"
      ]
     },
     "execution_count": 16,
     "metadata": {},
     "output_type": "execute_result"
    },
    {
     "data": {
      "image/png": "[encoded data removed]",
      "text/plain": [
       "<Figure size 432x288 with 1 Axes>"
      ]
     },
     "metadata": {
      "needs_background": "light"
     },
     "output_type": "display_data"
    }
   ],
   "source": [
    "# Calculate the strategy's returns\n",
    "strategy_returns = signals_df[\"Strategy Returns\"].cumsum()\n",
    "\n",
    "# Plot Strategy Returns to examine performance\n",
    "strategy_returns.plot()"
   ]
  },
  {
   "cell_type": "markdown",
   "id": "d25e1d40",
   "metadata": {},
   "source": [
    "# Add Transaction Costs to a Backtest\n"
   ]
  },
  {
   "cell_type": "code",
   "execution_count": 17,
   "id": "6e42617f",
   "metadata": {},
   "outputs": [
    {
     "data": {
      "text/html": [
       "<div>\n",
       "<style scoped>\n",
       "    .dataframe tbody tr th:only-of-type {\n",
       "        vertical-align: middle;\n",
       "    }\n",
       "\n",
       "    .dataframe tbody tr th {\n",
       "        vertical-align: top;\n",
       "    }\n",
       "\n",
       "    .dataframe thead th {\n",
       "        text-align: right;\n",
       "    }\n",
       "</style>\n",
       "<table border=\"1\" class=\"dataframe\">\n",
       "  <thead>\n",
       "    <tr style=\"text-align: right;\">\n",
       "      <th></th>\n",
       "      <th>Average</th>\n",
       "      <th>Actual Returns</th>\n",
       "      <th>SMA_Fast</th>\n",
       "      <th>SMA_Slow</th>\n",
       "      <th>Signal</th>\n",
       "      <th>Strategy Returns</th>\n",
       "      <th>Trades</th>\n",
       "    </tr>\n",
       "    <tr>\n",
       "      <th>Date</th>\n",
       "      <th></th>\n",
       "      <th></th>\n",
       "      <th></th>\n",
       "      <th></th>\n",
       "      <th></th>\n",
       "      <th></th>\n",
       "      <th></th>\n",
       "    </tr>\n",
       "  </thead>\n",
       "  <tbody>\n",
       "    <tr>\n",
       "      <th>2017-02-19</th>\n",
       "      <td>1056.810059</td>\n",
       "      <td>-0.004043</td>\n",
       "      <td>1056.810059</td>\n",
       "      <td>1042.658020</td>\n",
       "      <td>-1.0</td>\n",
       "      <td>NaN</td>\n",
       "      <td>NaN</td>\n",
       "    </tr>\n",
       "    <tr>\n",
       "      <th>2017-02-20</th>\n",
       "      <td>1080.489990</td>\n",
       "      <td>0.022407</td>\n",
       "      <td>1080.489990</td>\n",
       "      <td>1056.988013</td>\n",
       "      <td>1.0</td>\n",
       "      <td>-0.022407</td>\n",
       "      <td>2.0</td>\n",
       "    </tr>\n",
       "    <tr>\n",
       "      <th>2017-02-21</th>\n",
       "      <td>1117.250000</td>\n",
       "      <td>0.034022</td>\n",
       "      <td>1117.250000</td>\n",
       "      <td>1073.764014</td>\n",
       "      <td>1.0</td>\n",
       "      <td>0.034022</td>\n",
       "      <td>0.0</td>\n",
       "    </tr>\n",
       "    <tr>\n",
       "      <th>2017-02-22</th>\n",
       "      <td>1125.390015</td>\n",
       "      <td>0.007286</td>\n",
       "      <td>1125.390015</td>\n",
       "      <td>1088.208008</td>\n",
       "      <td>1.0</td>\n",
       "      <td>0.007286</td>\n",
       "      <td>0.0</td>\n",
       "    </tr>\n",
       "    <tr>\n",
       "      <th>2017-02-23</th>\n",
       "      <td>1176.619995</td>\n",
       "      <td>0.045522</td>\n",
       "      <td>1176.619995</td>\n",
       "      <td>1111.312012</td>\n",
       "      <td>1.0</td>\n",
       "      <td>0.045522</td>\n",
       "      <td>0.0</td>\n",
       "    </tr>\n",
       "  </tbody>\n",
       "</table>\n",
       "</div>"
      ],
      "text/plain": [
       "                Average  Actual Returns     SMA_Fast     SMA_Slow  Signal  \\\n",
       "Date                                                                        \n",
       "2017-02-19  1056.810059       -0.004043  1056.810059  1042.658020    -1.0   \n",
       "2017-02-20  1080.489990        0.022407  1080.489990  1056.988013     1.0   \n",
       "2017-02-21  1117.250000        0.034022  1117.250000  1073.764014     1.0   \n",
       "2017-02-22  1125.390015        0.007286  1125.390015  1088.208008     1.0   \n",
       "2017-02-23  1176.619995        0.045522  1176.619995  1111.312012     1.0   \n",
       "\n",
       "            Strategy Returns  Trades  \n",
       "Date                                  \n",
       "2017-02-19               NaN     NaN  \n",
       "2017-02-20         -0.022407     2.0  \n",
       "2017-02-21          0.034022     0.0  \n",
       "2017-02-22          0.007286     0.0  \n",
       "2017-02-23          0.045522     0.0  "
      ]
     },
     "execution_count": 17,
     "metadata": {},
     "output_type": "execute_result"
    }
   ],
   "source": [
    "# Every time we change from long to short, or vice-versa, 2 trades occur\n",
    "signals_df[\"Trades\"] = np.abs(signals_df[\"Signal\"].diff())\n",
    "\n",
    "# Display sample data\n",
    "signals_df.head()"
   ]
  },
  {
   "cell_type": "code",
   "execution_count": 22,
   "id": "6867d97b",
   "metadata": {},
   "outputs": [
    {
     "data": {
      "text/plain": [
       "Date\n",
       "2017-02-19     NaN\n",
       "2017-02-20    0.01\n",
       "2017-02-21    0.00\n",
       "2017-02-22    0.00\n",
       "2017-02-23    0.00\n",
       "Name: Trades, dtype: float64"
      ]
     },
     "execution_count": 22,
     "metadata": {},
     "output_type": "execute_result"
    }
   ],
   "source": [
    "# Calculate total daily trade costs\n",
    "cost_per_trade = 0.005\n",
    "daily_trade_costs = signals_df[\"Trades\"] * cost_per_trade\n",
    "\n",
    "# Display sample data\n",
    "daily_trade_costs.head()"
   ]
  },
  {
   "cell_type": "code",
   "execution_count": 23,
   "id": "633815f4",
   "metadata": {},
   "outputs": [],
   "source": [
    "# Calculate strategy returns after costs\n",
    "signals_df[\"Strategy Returns (After Costs)\"] = signals_df[\"Strategy Returns\"] - daily_trade_costs\n"
   ]
  },
  {
   "cell_type": "markdown",
   "id": "d7a9d478",
   "metadata": {},
   "source": [
    "# Plot the stragegy returns before and after costs\n"
   ]
  },
  {
   "cell_type": "code",
   "execution_count": 24,
   "id": "a95c341c",
   "metadata": {},
   "outputs": [
    {
     "data": {
      "text/plain": [
       "<matplotlib.legend.Legend at 0x185918e8288>"
      ]
     },
     "execution_count": 24,
     "metadata": {},
     "output_type": "execute_result"
    },
    {
     "data": {
      "image/png": "[encoded data removed]",
      "text/plain": [
       "<Figure size 432x288 with 1 Axes>"
      ]
     },
     "metadata": {
      "needs_background": "light"
     },
     "output_type": "display_data"
    }
   ],
   "source": [
    "# Compute total strategy returns after costs\n",
    "strategy_returns_after_costs = signals_df[\"Strategy Returns (After Costs)\"].cumsum()\n",
    "\n",
    "# Plot stategy returns before and after costs\n",
    "strategy_returns_after_costs.plot(label=\"Strategy Returns (After Costs)\")\n",
    "strategy_returns.plot(label=\"Strategy Returns (Before Costs)\")\n",
    "plt.legend()"
   ]
  },
  {
   "cell_type": "markdown",
   "id": "bb38c2d0",
   "metadata": {},
   "source": [
    "# Other Performance Metrics\n"
   ]
  },
  {
   "cell_type": "markdown",
   "id": "5cf1ec5f",
   "metadata": {},
   "source": [
    "## Sharpe Ratio\n"
   ]
  },
  {
   "cell_type": "code",
   "execution_count": 26,
   "id": "e7b48a54",
   "metadata": {},
   "outputs": [
    {
     "name": "stdout",
     "output_type": "stream",
     "text": [
      "Sharpe Ratio: 2.302\n"
     ]
    }
   ],
   "source": [
    "# Calculate Sharpe Ratio\n",
    "annualized_return = signals_df[\"Strategy Returns\"].mean() * 252 \n",
    "annualized_std = signals_df[\"Strategy Returns\"].std() * np.sqrt(252)\n",
    "sharpe_ratio = round(annualized_return/annualized_std, 3)\n",
    "\n",
    "# Display results\n",
    "print(\"Sharpe Ratio:\", sharpe_ratio)"
   ]
  },
  {
   "cell_type": "markdown",
   "id": "9b221150",
   "metadata": {},
   "source": [
    "# Best-Case/Worst-Case Weekly Performance\n"
   ]
  },
  {
   "cell_type": "code",
   "execution_count": 27,
   "id": "f00f331e",
   "metadata": {},
   "outputs": [
    {
     "name": "stderr",
     "output_type": "stream",
     "text": [
      "C:\\Users\\wesleyromero308\\Anaconda3\\envs\\pyvizenv\\lib\\site-packages\\ipykernel_launcher.py:5: FutureWarning: weekofyear and week have been deprecated, please use DatetimeIndex.isocalendar().week instead, which returns a Series.  To exactly reproduce the behavior of week and weekofyear and return an Index, you may call pd.Int64Index(idx.isocalendar().week)\n",
      "  \"\"\"\n"
     ]
    },
    {
     "data": {
      "text/plain": [
       "Date\n",
       "2017-02-19         NaN\n",
       "2017-02-20   -0.022407\n",
       "2017-02-21    0.011615\n",
       "2017-02-22    0.018900\n",
       "2017-02-23    0.064422\n",
       "Name: Strategy Returns, dtype: float64"
      ]
     },
     "execution_count": 27,
     "metadata": {},
     "output_type": "execute_result"
    }
   ],
   "source": [
    "# Calculate weekly returns\n",
    "weekly_returns = signals_df[\"Strategy Returns\"].groupby(\n",
    "        by=[\n",
    "            signals_df.index.year,\n",
    "            signals_df.index.week\n",
    "        ]\n",
    "    ).cumsum()\n",
    "\n",
    "# Display results    \n",
    "weekly_returns.head()"
   ]
  },
  {
   "cell_type": "code",
   "execution_count": 28,
   "id": "e48e2924",
   "metadata": {},
   "outputs": [
    {
     "data": {
      "text/plain": [
       "count    1820.000000\n",
       "mean        0.023034\n",
       "std         0.072662\n",
       "min        -0.276753\n",
       "25%        -0.016527\n",
       "50%         0.014805\n",
       "75%         0.059757\n",
       "max         0.416151\n",
       "Name: Strategy Returns, dtype: float64"
      ]
     },
     "execution_count": 28,
     "metadata": {},
     "output_type": "execute_result"
    }
   ],
   "source": [
    "# Fetch descriptive statistics\n",
    "weekly_returns.describe()"
   ]
  },
  {
   "cell_type": "code",
   "execution_count": 29,
   "id": "62cd4c12",
   "metadata": {},
   "outputs": [
    {
     "data": {
      "text/plain": [
       "<AxesSubplot:xlabel='Date'>"
      ]
     },
     "execution_count": 29,
     "metadata": {},
     "output_type": "execute_result"
    },
    {
     "data": {
      "image/png": "[encoded data removed]",
      "text/plain": [
       "<Figure size 432x288 with 1 Axes>"
      ]
     },
     "metadata": {
      "needs_background": "light"
     },
     "output_type": "display_data"
    }
   ],
   "source": [
    "# Plot weekly returns\n",
    "weekly_returns.plot()"
   ]
  },
  {
   "cell_type": "code",
   "execution_count": null,
   "id": "33dd7ee7",
   "metadata": {},
   "outputs": [],
   "source": []
  }
 ],
 "metadata": {
  "kernelspec": {
   "display_name": "Python [conda env:pyvizenv]",
   "language": "python",
   "name": "conda-env-pyvizenv-py"
  },
  "language_info": {
   "codemirror_mode": {
    "name": "ipython",
    "version": 3
   },
   "file_extension": ".py",
   "mimetype": "text/x-python",
   "name": "python",
   "nbconvert_exporter": "python",
   "pygments_lexer": "ipython3",
   "version": "3.7.10"
  }
 },
 "nbformat": 4,
 "nbformat_minor": 5
}
